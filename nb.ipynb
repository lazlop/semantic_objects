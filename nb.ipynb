{
 "cells": [
  {
   "cell_type": "code",
   "execution_count": 1,
   "id": "f131b552",
   "metadata": {},
   "outputs": [
    {
     "name": "stderr",
     "output_type": "stream",
     "text": [
      "CRITICAL:root:Install the 'bacnet-ingress' module, e.g. 'pip install buildingmotif[bacnet-ingress]'\n"
     ]
    }
   ],
   "source": [
    "import template_builder as tb\n",
    "import template_builder.s223 as s223"
   ]
  },
  {
   "cell_type": "code",
   "execution_count": 2,
   "id": "4eb3c48b",
   "metadata": {},
   "outputs": [
    {
     "data": {
      "text/plain": [
       "mappingproxy({'__module__': 'template_builder.s223.entities',\n",
       "              '__annotations__': {'area': template_builder.s223.values.Area,\n",
       "               'area2': template_builder.s223.values.Area},\n",
       "              'relations': [(template_builder.s223.relations.hasProperty,\n",
       "                ['area', 'area2'])],\n",
       "              '__doc__': None})"
      ]
     },
     "execution_count": 2,
     "metadata": {},
     "output_type": "execute_result"
    }
   ],
   "source": [
    "vars(s223.Space_TwoArea)"
   ]
  },
  {
   "cell_type": "code",
   "execution_count": 3,
   "id": "f6f5653c",
   "metadata": {},
   "outputs": [
    {
     "data": {
      "text/plain": [
       "[(rdflib.term.URIRef('http://data.ashrae.org/standard223#hasProperty'),\n",
       "  rdflib.term.URIRef('urn:___param___#area'))]"
      ]
     },
     "execution_count": 3,
     "metadata": {},
     "output_type": "execute_result"
    }
   ],
   "source": [
    "s223.Space.template_body_from_anotations()\n"
   ]
  },
  {
   "cell_type": "code",
   "execution_count": 4,
   "id": "853e5e5e",
   "metadata": {},
   "outputs": [
    {
     "data": {
      "text/plain": [
       "[(template_builder.s223.relations.hasProperty, 'area')]"
      ]
     },
     "execution_count": 4,
     "metadata": {},
     "output_type": "execute_result"
    }
   ],
   "source": [
    "s223.Space.get_relations()"
   ]
  },
  {
   "cell_type": "code",
   "execution_count": 5,
   "id": "3b9cc2de",
   "metadata": {},
   "outputs": [
    {
     "data": {
      "text/plain": [
       "[(template_builder.s223.relations.hasProperty, 'area'),\n",
       " (template_builder.s223.relations.hasProperty, ['area', 'area2'])]"
      ]
     },
     "execution_count": 5,
     "metadata": {},
     "output_type": "execute_result"
    }
   ],
   "source": [
    "s223.Space_TwoArea.get_relations()\n"
   ]
  },
  {
   "cell_type": "code",
   "execution_count": 6,
   "id": "621ffd33",
   "metadata": {},
   "outputs": [],
   "source": [
    "class s2(s223.Space_TwoArea):\n",
    "    area1: s223.Area\n",
    "    area2: s223.Area\n",
    "\n",
    "    relations = [\n",
    "            (s223.hasProperty, ['area1','area2'])\n",
    "        ]\n"
   ]
  },
  {
   "cell_type": "code",
   "execution_count": 7,
   "id": "5b2ec147",
   "metadata": {},
   "outputs": [
    {
     "data": {
      "text/plain": [
       "[(template_builder.s223.relations.hasProperty, 'area'),\n",
       " (template_builder.s223.relations.hasProperty, ['area', 'area2']),\n",
       " (template_builder.s223.relations.hasProperty, ['area1', 'area2'])]"
      ]
     },
     "execution_count": 7,
     "metadata": {},
     "output_type": "execute_result"
    }
   ],
   "source": [
    "s2.get_relations()"
   ]
  },
  {
   "cell_type": "code",
   "execution_count": 8,
   "id": "1feebeee",
   "metadata": {},
   "outputs": [
    {
     "data": {
      "text/plain": [
       "{'area1': template_builder.s223.values.Area,\n",
       " 'area2': template_builder.s223.values.Area}"
      ]
     },
     "execution_count": 8,
     "metadata": {},
     "output_type": "execute_result"
    }
   ],
   "source": [
    "s2.__annotations__"
   ]
  },
  {
   "cell_type": "code",
   "execution_count": 9,
   "id": "bab13418",
   "metadata": {},
   "outputs": [
    {
     "data": {
      "text/plain": [
       "template_builder.s223.values.Area"
      ]
     },
     "execution_count": 9,
     "metadata": {},
     "output_type": "execute_result"
    }
   ],
   "source": [
    "\n",
    "s223.Area"
   ]
  },
  {
   "cell_type": "code",
   "execution_count": 11,
   "id": "f9f2f554",
   "metadata": {},
   "outputs": [],
   "source": [
    "a = s223.Area(10)"
   ]
  }
 ],
 "metadata": {
  "kernelspec": {
   "display_name": "template-builder (3.10.0)",
   "language": "python",
   "name": "python3"
  },
  "language_info": {
   "codemirror_mode": {
    "name": "ipython",
    "version": 3
   },
   "file_extension": ".py",
   "mimetype": "text/x-python",
   "name": "python",
   "nbconvert_exporter": "python",
   "pygments_lexer": "ipython3",
   "version": "3.10.0"
  }
 },
 "nbformat": 4,
 "nbformat_minor": 5
}
