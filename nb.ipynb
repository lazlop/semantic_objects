{
 "cells": [
  {
   "cell_type": "code",
   "execution_count": 1,
   "id": "f131b552",
   "metadata": {},
   "outputs": [
    {
     "name": "stderr",
     "output_type": "stream",
     "text": [
      "CRITICAL:root:Install the 'bacnet-ingress' module, e.g. 'pip install buildingmotif[bacnet-ingress]'\n"
     ]
    }
   ],
   "source": [
    "import template_builder as tb\n",
    "import template_builder.s223 as s223"
   ]
  },
  {
   "cell_type": "code",
   "execution_count": 2,
   "id": "4eb3c48b",
   "metadata": {},
   "outputs": [
    {
     "data": {
      "text/plain": [
       "mappingproxy({'__module__': 'template_builder.s223.entities',\n",
       "              '__annotations__': {'area': template_builder.s223.values.Area,\n",
       "               'area2': template_builder.s223.values.Area},\n",
       "              'relations': [(template_builder.s223.relations.hasProperty,\n",
       "                ['area', 'area2'])],\n",
       "              '__doc__': None})"
      ]
     },
     "execution_count": 2,
     "metadata": {},
     "output_type": "execute_result"
    }
   ],
   "source": [
    "vars(s223.Space_TwoArea)"
   ]
  },
  {
   "cell_type": "code",
   "execution_count": 7,
   "id": "0a8a736e",
   "metadata": {},
   "outputs": [
    {
     "data": {
      "text/plain": [
       "'Space_TwoArea'"
      ]
     },
     "execution_count": 7,
     "metadata": {},
     "output_type": "execute_result"
    }
   ],
   "source": [
    "s223.Space_TwoArea.__qualname__"
   ]
  },
  {
   "cell_type": "code",
   "execution_count": 8,
   "id": "4247490b",
   "metadata": {},
   "outputs": [
    {
     "data": {
      "text/plain": [
       "'PhysicalSpace'"
      ]
     },
     "execution_count": 8,
     "metadata": {},
     "output_type": "execute_result"
    }
   ],
   "source": [
    "s223.PhysicalSpace.__qualname__"
   ]
  },
  {
   "cell_type": "code",
   "execution_count": null,
   "id": "954ffaad",
   "metadata": {},
   "outputs": [],
   "source": []
  }
 ],
 "metadata": {
  "kernelspec": {
   "display_name": "template-builder (3.10.0)",
   "language": "python",
   "name": "python3"
  },
  "language_info": {
   "codemirror_mode": {
    "name": "ipython",
    "version": 3
   },
   "file_extension": ".py",
   "mimetype": "text/x-python",
   "name": "python",
   "nbconvert_exporter": "python",
   "pygments_lexer": "ipython3",
   "version": "3.10.0"
  }
 },
 "nbformat": 4,
 "nbformat_minor": 5
}
