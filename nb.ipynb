{
 "cells": [
  {
   "cell_type": "code",
   "execution_count": 1,
   "id": "f131b552",
   "metadata": {},
   "outputs": [
    {
     "name": "stderr",
     "output_type": "stream",
     "text": [
      "CRITICAL:root:Install the 'bacnet-ingress' module, e.g. 'pip install buildingmotif[bacnet-ingress]'\n"
     ]
    }
   ],
   "source": [
    "import template_builder as tb\n",
    "import template_builder.s223 as s223"
   ]
  },
  {
   "cell_type": "code",
   "execution_count": 2,
   "id": "4eb3c48b",
   "metadata": {},
   "outputs": [
    {
     "data": {
      "text/plain": [
       "mappingproxy({'__module__': 'template_builder.s223.entities',\n",
       "              '__annotations__': {'area': template_builder.s223.values.Area,\n",
       "               'area2': template_builder.s223.values.Area},\n",
       "              '__doc__': 'Space_TwoArea(area: template_builder.s223.values.Area, area2: template_builder.s223.values.Area)',\n",
       "              '__dataclass_params__': _DataclassParams(init=True,repr=True,eq=True,order=False,unsafe_hash=False,frozen=False),\n",
       "              '__dataclass_fields__': {'contains': Field(name='contains',type=typing.Self,default=None,default_factory=<dataclasses._MISSING_TYPE object at 0x101747f50>,init=False,repr=True,hash=None,compare=True,metadata=mappingproxy({'relation': <class 'template_builder.s223.relations.contains'>, 'templatize': False}),kw_only=False,_field_type=_FIELD),\n",
       "               'encloses': Field(name='encloses',type=<class 'template_builder.s223.entities.DomainSpace'>,default=None,default_factory=<dataclasses._MISSING_TYPE object at 0x101747f50>,init=False,repr=True,hash=None,compare=True,metadata=mappingproxy({'relation': <class 'template_builder.s223.relations.encloses'>, 'templatize': False}),kw_only=False,_field_type=_FIELD),\n",
       "               'area': Field(name='area',type=<class 'template_builder.s223.values.Area'>,default=<dataclasses._MISSING_TYPE object at 0x101747f50>,default_factory=<dataclasses._MISSING_TYPE object at 0x101747f50>,init=True,repr=True,hash=None,compare=True,metadata=mappingproxy({'relation': <class 'template_builder.s223.relations.hasProperty'>}),kw_only=False,_field_type=_FIELD),\n",
       "               'area2': Field(name='area2',type=<class 'template_builder.s223.values.Area'>,default=<dataclasses._MISSING_TYPE object at 0x101747f50>,default_factory=<dataclasses._MISSING_TYPE object at 0x101747f50>,init=True,repr=True,hash=None,compare=True,metadata=mappingproxy({'relation': <class 'template_builder.s223.relations.hasProperty'>}),kw_only=False,_field_type=_FIELD)},\n",
       "              '__init__': <function template_builder.s223.entities.Space_TwoArea.__init__(self, area: template_builder.s223.values.Area, area2: template_builder.s223.values.Area) -> None>,\n",
       "              '__repr__': <function template_builder.s223.entities.Space_TwoArea.__repr__(self)>,\n",
       "              '__eq__': <function template_builder.s223.entities.Space_TwoArea.__eq__(self, other)>,\n",
       "              '__hash__': None,\n",
       "              '__match_args__': ('area', 'area2')})"
      ]
     },
     "execution_count": 2,
     "metadata": {},
     "output_type": "execute_result"
    }
   ],
   "source": [
    "vars(s223.Space_TwoArea)"
   ]
  },
  {
   "cell_type": "code",
   "execution_count": 3,
   "id": "0a8a736e",
   "metadata": {},
   "outputs": [
    {
     "data": {
      "text/plain": [
       "'Space_TwoArea'"
      ]
     },
     "execution_count": 3,
     "metadata": {},
     "output_type": "execute_result"
    }
   ],
   "source": [
    "s223.Space_TwoArea.__qualname__"
   ]
  },
  {
   "cell_type": "code",
   "execution_count": 4,
   "id": "4247490b",
   "metadata": {},
   "outputs": [
    {
     "data": {
      "text/plain": [
       "'PhysicalSpace'"
      ]
     },
     "execution_count": 4,
     "metadata": {},
     "output_type": "execute_result"
    }
   ],
   "source": [
    "s223.PhysicalSpace.__qualname__"
   ]
  },
  {
   "cell_type": "code",
   "execution_count": 5,
   "id": "954ffaad",
   "metadata": {},
   "outputs": [
    {
     "data": {
      "text/plain": [
       "False"
      ]
     },
     "execution_count": 5,
     "metadata": {},
     "output_type": "execute_result"
    }
   ],
   "source": [
    "s223.Space.__dataclass_fields__['contains'].init"
   ]
  },
  {
   "cell_type": "code",
   "execution_count": 6,
   "id": "eff4512a",
   "metadata": {},
   "outputs": [],
   "source": [
    "a = s223.PhysicalSpace()\n",
    "b = s223.PhysicalSpace()\n",
    "c = s223.PhysicalSpace()"
   ]
  },
  {
   "cell_type": "code",
   "execution_count": 7,
   "id": "9c90a48f",
   "metadata": {},
   "outputs": [],
   "source": [
    "a.contains"
   ]
  },
  {
   "cell_type": "code",
   "execution_count": 8,
   "id": "c534afe3",
   "metadata": {},
   "outputs": [],
   "source": [
    "a.contains = [b,c]"
   ]
  }
 ],
 "metadata": {
  "kernelspec": {
   "display_name": "template-builder (3.10.0)",
   "language": "python",
   "name": "python3"
  },
  "language_info": {
   "codemirror_mode": {
    "name": "ipython",
    "version": 3
   },
   "file_extension": ".py",
   "mimetype": "text/x-python",
   "name": "python",
   "nbconvert_exporter": "python",
   "pygments_lexer": "ipython3",
   "version": "3.10.0"
  }
 },
 "nbformat": 4,
 "nbformat_minor": 5
}
